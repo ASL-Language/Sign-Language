{
 "cells": [
  {
   "cell_type": "code",
   "execution_count": 34,
   "id": "28d3bc16-fdb3-462d-ad23-58201a69c1a6",
   "metadata": {},
   "outputs": [],
   "source": [
    "import os\n",
    "os.environ['TF_CPP_MIN_LOG_LEVEL'] = '1'\n",
    "\n",
    "from tensorflow.keras.preprocessing.image import ImageDataGenerator\n",
    "from tensorflow.keras import models, layers\n",
    "from tensorflow.keras.layers import Conv2D, MaxPooling2D, BatchNormalization, Flatten, Dense, Dropout\n",
    "from tensorflow.keras.callbacks import EarlyStopping\n",
    "\n",
    "import splitfolders\n",
    "\n",
    "import matplotlib.pyplot as plt\n",
    "import numpy as np\n",
    "import pandas as pd\n",
    "from dataclasses import dataclass\n",
    "from typing import Tuple\n",
    "import optuna\n",
    "from optuna.integration import TFKerasPruningCallback"
   ]
  },
  {
   "cell_type": "markdown",
   "id": "c07ccf8d-a9d1-4aec-ac29-ddda16c98563",
   "metadata": {},
   "source": [
    "Prepare training data\n",
    "==="
   ]
  },
  {
   "cell_type": "code",
   "execution_count": 2,
   "id": "22128f42-60b5-460e-8402-3ae3779b034d",
   "metadata": {},
   "outputs": [
    {
     "name": "stderr",
     "output_type": "stream",
     "text": [
      "Copying files: 87000 files [00:47, 1818.73 files/s]\n"
     ]
    }
   ],
   "source": [
    "train_src = \"asl_alphabet_train\"\n",
    "train_dir = 'datasets/train'\n",
    "val_dir = 'datasets/val'\n",
    "test_dir  = 'datasets/test'\n",
    "splitfolders.ratio(train_src, output=\"datasets\",\n",
    "    seed=1337, ratio=(.8, .1, .1), group_prefix=None, move=False) # 產生trian(訓練集)、val(驗證集)、test(測試集)"
   ]
  },
  {
   "cell_type": "markdown",
   "id": "aae2cc7e-34ca-4582-a29b-0f1c2480ce9d",
   "metadata": {},
   "source": [
    "Preprocessing and Get labels\n",
    "==="
   ]
  },
  {
   "cell_type": "code",
   "execution_count": 11,
   "id": "596d4336-904f-47a3-b371-8b82ddb9d99e",
   "metadata": {},
   "outputs": [],
   "source": [
    "@dataclass(frozen=True)\n",
    "class dataconfig:\n",
    "    batch_size: int = 32\n",
    "    target_size: Tuple[int, int] = (32,32)"
   ]
  },
  {
   "cell_type": "code",
   "execution_count": 12,
   "id": "3c3e9b53-c4ab-4fcc-a865-a5e1f2a28b26",
   "metadata": {},
   "outputs": [
    {
     "name": "stdout",
     "output_type": "stream",
     "text": [
      "Found 69600 images belonging to 29 classes.\n",
      "Found 8700 images belonging to 29 classes.\n",
      "Found 8700 images belonging to 29 classes.\n"
     ]
    }
   ],
   "source": [
    "train_datagen = ImageDataGenerator(rescale=1./255, horizontal_flip=True)\n",
    "val_datagen   = ImageDataGenerator(rescale=1./255, horizontal_flip=True)\n",
    "test_datagen  = ImageDataGenerator(rescale=1./255, horizontal_flip=True)\n",
    "train_generator = train_datagen.flow_from_directory( # 多目錄時，目錄名為標籤\n",
    "        train_dir,\n",
    "        target_size=dataconfig.target_size,\n",
    "        batch_size=dataconfig.batch_size,\n",
    "        color_mode=\"grayscale\",\n",
    "        class_mode='categorical',\n",
    "        shuffle=True)\n",
    "\n",
    "val_generator = val_datagen.flow_from_directory(\n",
    "        val_dir,\n",
    "        target_size=dataconfig.target_size,\n",
    "        batch_size=dataconfig.batch_size,\n",
    "        color_mode=\"grayscale\",\n",
    "        class_mode='categorical',\n",
    "        shuffle=False)\n",
    "\n",
    "test_generator = test_datagen.flow_from_directory(\n",
    "        test_dir,\n",
    "        target_size=dataconfig.target_size,\n",
    "        batch_size=dataconfig.batch_size,\n",
    "        color_mode=\"grayscale\",\n",
    "        class_mode='categorical',\n",
    "        shuffle=False)"
   ]
  },
  {
   "cell_type": "code",
   "execution_count": 13,
   "id": "5c3c1a83-d7ad-4925-ac8e-b0aaad8e377d",
   "metadata": {},
   "outputs": [
    {
     "name": "stdout",
     "output_type": "stream",
     "text": [
      "['A', 'B', 'C', 'D', 'E', 'F', 'G', 'H', 'I', 'J', 'K', 'L', 'M', 'N', 'O', 'P', 'Q', 'R', 'S', 'T', 'U', 'V', 'W', 'X', 'Y', 'Z', 'del', 'nothing', 'space']\n"
     ]
    }
   ],
   "source": [
    "labels = list(train_generator.class_indices.keys())\n",
    "print(labels)"
   ]
  },
  {
   "cell_type": "markdown",
   "id": "a8f8b34c-5b13-436f-8065-fcdebe80024c",
   "metadata": {},
   "source": [
    "Model\n",
    "==="
   ]
  },
  {
   "cell_type": "code",
   "execution_count": 24,
   "id": "76587e37-2803-425f-9eed-714cf6f31b33",
   "metadata": {},
   "outputs": [],
   "source": [
    "@dataclass(frozen=True)\n",
    "class modelconfig:\n",
    "    num_classes: int = len(labels)\n",
    "    input_shape: Tuple[int,int,int] = (32,32,1)\n",
    "    dropout: float = 0.1\n",
    "\n",
    "@dataclass(frozen=True)\n",
    "class traingingconfig:\n",
    "    checkpoint_path: str = \"model/B_best_model.keras\"\n",
    "    epochs: int = 10"
   ]
  },
  {
   "cell_type": "code",
   "execution_count": 35,
   "id": "a2fbb545-abd9-481a-932f-bd3d14f14db9",
   "metadata": {},
   "outputs": [],
   "source": [
    "def objective(trial):\n",
    "    model_config = modelconfig(\n",
    "        input_shape=(32, 32, 1),  # Adjust for MNIST\n",
    "        dropout=trial.suggest_float(\"dropout\", 0.1, 0.5)\n",
    "    )\n",
    "    model = models.Sequential()\n",
    "    model.add(Conv2D(32, kernel_size=(3, 3), activation='relu', padding='same', input_shape=model_config.input_shape))\n",
    "    model.add(MaxPooling2D(pool_size=(2, 2)))\n",
    "    model.add(BatchNormalization())\n",
    "    model.add(Dropout(model_config.dropout))\n",
    "    \n",
    "    model.add(Conv2D(64, kernel_size=(3, 3), activation='relu', padding='same'))\n",
    "    model.add(MaxPooling2D(pool_size=(2, 2)))\n",
    "    model.add(BatchNormalization())\n",
    "    model.add(Dropout(model_config.dropout))\n",
    "    \n",
    "    model.add(Conv2D(128, kernel_size=(3, 3), activation='relu', padding='same'))\n",
    "    model.add(MaxPooling2D(pool_size=(2, 2)))\n",
    "    model.add(BatchNormalization())\n",
    "    model.add(Dropout(model_config.dropout))\n",
    "    \n",
    "    model.add(layers.Flatten())\n",
    "    model.add(layers.Dense(128, activation='relu'))\n",
    "    model.add(Dropout(model_config.dropout*2))\n",
    "    model.add(layers.Dense(model_config.num_classes, activation='softmax'))\n",
    "\n",
    "    model.compile(optimizer='adam', loss='categorical_crossentropy', metrics=['accuracy'])\n",
    "    early_stopping = EarlyStopping(monitor='val_loss', patience=3, restore_best_weights=True)\n",
    "    history = model.fit(train_generator,\n",
    "                        validation_data=val_generator,\n",
    "                        epochs=traingingconfig.epochs,\n",
    "                        callbacks=[early_stopping, TFKerasPruningCallback(trial, 'val_loss')],\n",
    "                        verbose=1)\n",
    "    val_loss = min(history.history['val_loss'])\n",
    "    return val_loss"
   ]
  },
  {
   "cell_type": "code",
   "execution_count": null,
   "id": "300fc904-5e2d-4ea1-8056-ea2b93cbdcce",
   "metadata": {},
   "outputs": [
    {
     "name": "stderr",
     "output_type": "stream",
     "text": [
      "[I 2024-05-18 11:41:55,854] A new study created in memory with name: no-name-05d4f980-d39f-4266-927c-4d5564aa105e\n"
     ]
    },
    {
     "name": "stdout",
     "output_type": "stream",
     "text": [
      "Epoch 1/10\n",
      "2175/2175 [==============================] - 148s 67ms/step - loss: 1.6373 - accuracy: 0.4860 - val_loss: 0.8197 - val_accuracy: 0.7323\n",
      "Epoch 2/10\n",
      "2175/2175 [==============================] - 95s 44ms/step - loss: 0.6350 - accuracy: 0.7812 - val_loss: 0.6128 - val_accuracy: 0.7946\n",
      "Epoch 3/10\n",
      "2175/2175 [==============================] - 104s 48ms/step - loss: 0.4145 - accuracy: 0.8567 - val_loss: 0.5720 - val_accuracy: 0.8201\n",
      "Epoch 4/10\n",
      "1217/2175 [===============>..............] - ETA: 1:06 - loss: 0.3327 - accuracy: 0.8854"
     ]
    }
   ],
   "source": [
    "study = optuna.create_study(direction='minimize')\n",
    "study.optimize(objective, n_trials=50)"
   ]
  },
  {
   "cell_type": "code",
   "execution_count": 34,
   "id": "31d25dfc-70cd-481b-a6f8-118a4788986d",
   "metadata": {},
   "outputs": [
    {
     "name": "stdout",
     "output_type": "stream",
     "text": [
      "272/272 [==============================] - 11s 42ms/step - loss: 0.0891 - accuracy: 0.9708\n",
      "Test loss:  0.08905266225337982\n",
      "Test accuracy:  0.9708045721054077\n"
     ]
    }
   ],
   "source": [
    "best_trial = study.best_trial\n",
    "print(f\"Best trial parameters: {best_trial.params}\")\n",
    "print(f\"Best trial value: {best_trial.value}\")"
   ]
  },
  {
   "cell_type": "code",
   "execution_count": null,
   "id": "41e958b0-8b57-495e-a452-824dd5816c9a",
   "metadata": {},
   "outputs": [],
   "source": []
  }
 ],
 "metadata": {
  "kernelspec": {
   "display_name": "Python 3 (ipykernel)",
   "language": "python",
   "name": "python3"
  },
  "language_info": {
   "codemirror_mode": {
    "name": "ipython",
    "version": 3
   },
   "file_extension": ".py",
   "mimetype": "text/x-python",
   "name": "python",
   "nbconvert_exporter": "python",
   "pygments_lexer": "ipython3",
   "version": "3.11.0rc1"
  }
 },
 "nbformat": 4,
 "nbformat_minor": 5
}
